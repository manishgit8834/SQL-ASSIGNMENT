{
  "nbformat": 4,
  "nbformat_minor": 0,
  "metadata": {
    "colab": {
      "provenance": [],
      "authorship_tag": "ABX9TyPnY8vOuFtTskyXvKRhmnqP",
      "include_colab_link": true
    },
    "kernelspec": {
      "name": "python3",
      "display_name": "Python 3"
    },
    "language_info": {
      "name": "python"
    }
  },
  "cells": [
    {
      "cell_type": "markdown",
      "metadata": {
        "id": "view-in-github",
        "colab_type": "text"
      },
      "source": [
        "<a href=\"https://colab.research.google.com/github/manishgit8834/SQL-ASSIGNMENT/blob/main/sql_assignment_work_1.ipynb\" target=\"_parent\"><img src=\"https://colab.research.google.com/assets/colab-badge.svg\" alt=\"Open In Colab\"/></a>"
      ]
    },
    {
      "cell_type": "code",
      "source": [
        "#/*1. Return the customer IDs of customers who have spent at least $110 with the staff\n",
        "#member who has an ID of 2.*/\n",
        "\n",
        "select *from payment\n",
        "select customer_id from payment\n",
        "where staff_id=2\n",
        "group by customer_id\n",
        "having sum(amount) >=110\n",
        "\n",
        "\n",
        "\n"
      ],
      "metadata": {
        "id": "ehq4NifUUXzk"
      },
      "execution_count": null,
      "outputs": []
    },
    {
      "cell_type": "code",
      "source": [
        "#/*2. How many films begin with the letter J?*/\n",
        "\n",
        "select count(title) from film\n",
        "where title like 'J%'"
      ],
      "metadata": {
        "id": "nDvcLImlUu-A"
      },
      "execution_count": null,
      "outputs": []
    },
    {
      "cell_type": "code",
      "source": [
        "#/*3.)What customer has the highest customer ID number whose name starts with an 'E' \n",
        "#--   and has an address ID lower than 500?*/\n",
        "\n",
        "select * from customer\n",
        "select first_name,last_name,customer_id from customer\n",
        "where first_name like 'E%' and address_id < 500\n",
        "order by customer_id desc\n",
        "\n"
      ],
      "metadata": {
        "id": "0k6kMAa_UxoC"
      },
      "execution_count": null,
      "outputs": []
    }
  ]
}